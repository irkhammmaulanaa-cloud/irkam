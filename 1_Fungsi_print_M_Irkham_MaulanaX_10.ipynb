{
  "nbformat": 4,
  "nbformat_minor": 0,
  "metadata": {
    "colab": {
      "provenance": [],
      "authorship_tag": "ABX9TyMex+LGWqzbqfwBJkSw5L6R",
      "include_colab_link": true
    },
    "kernelspec": {
      "name": "python3",
      "display_name": "Python 3"
    },
    "language_info": {
      "name": "python"
    }
  },
  "cells": [
    {
      "cell_type": "markdown",
      "metadata": {
        "id": "view-in-github",
        "colab_type": "text"
      },
      "source": [
        "<a href=\"https://colab.research.google.com/github/irkhammmaulanaa-cloud/irkam/blob/main/1_Fungsi_print_M_Irkham_MaulanaX_10.ipynb\" target=\"_parent\"><img src=\"https://colab.research.google.com/assets/colab-badge.svg\" alt=\"Open In Colab\"/></a>"
      ]
    },
    {
      "cell_type": "code",
      "execution_count": null,
      "metadata": {
        "colab": {
          "base_uri": "https://localhost:8080/"
        },
        "id": "3twSPz4P6nUL",
        "outputId": "00f3b572-5d57-4735-b3b9-69bc27bb29c7"
      },
      "outputs": [
        {
          "output_type": "stream",
          "name": "stdout",
          "text": [
            "Hello world!\n"
          ]
        }
      ],
      "source": [
        "print(\"Hello world!\")"
      ]
    },
    {
      "cell_type": "code",
      "source": [
        "print(\"m.irkham Maulana\")"
      ],
      "metadata": {
        "colab": {
          "base_uri": "https://localhost:8080/"
        },
        "id": "91EutVev8QLa",
        "outputId": "ff1b2d32-e929-4151-c5a5-f782f30cb82e"
      },
      "execution_count": null,
      "outputs": [
        {
          "output_type": "stream",
          "name": "stdout",
          "text": [
            "m.irkham Maulana\n"
          ]
        }
      ]
    },
    {
      "cell_type": "code",
      "source": [
        "usia =\"15\""
      ],
      "metadata": {
        "id": "9fgAHVkYMbe4"
      },
      "execution_count": null,
      "outputs": []
    },
    {
      "cell_type": "code",
      "source": [
        "mataPelajaranFavorit =\"PPKn\""
      ],
      "metadata": {
        "id": "SruImTZcMl_q"
      },
      "execution_count": null,
      "outputs": []
    },
    {
      "cell_type": "code",
      "source": [
        "nama_panggilan_siswa = \"irkham\"\n",
        "print(\"Nama panggilan siswa tersebut adalah\",nama_panggilan_siswa)"
      ],
      "metadata": {
        "colab": {
          "base_uri": "https://localhost:8080/"
        },
        "id": "O9aYjYVWH1qZ",
        "outputId": "dec5da25-dc59-477b-ff32-62011ee1da36"
      },
      "execution_count": null,
      "outputs": [
        {
          "output_type": "stream",
          "name": "stdout",
          "text": [
            "Nama panggilan siswa tersebut adalah irkham\n"
          ]
        }
      ]
    },
    {
      "cell_type": "code",
      "source": [
        "print(f\"nama panggilan tersebut adalah {nama_panggilan_siswa} loh\")"
      ],
      "metadata": {
        "id": "9s0rcLvq6kOq",
        "colab": {
          "base_uri": "https://localhost:8080/"
        },
        "outputId": "0d4e29f6-3804-427e-ac94-244151b27d3d"
      },
      "execution_count": null,
      "outputs": [
        {
          "output_type": "stream",
          "name": "stdout",
          "text": [
            "nama panggilan tersebut adalah irkham loh\n"
          ]
        }
      ]
    },
    {
      "cell_type": "code",
      "source": [
        "nama = \"M.Irkham Maulana\"\n",
        "print(nama)"
      ],
      "metadata": {
        "colab": {
          "base_uri": "https://localhost:8080/"
        },
        "id": "bLJoPQH6JCAW",
        "outputId": "56b36526-38bf-4a0f-abe0-273c5024bf2d"
      },
      "execution_count": null,
      "outputs": [
        {
          "output_type": "stream",
          "name": "stdout",
          "text": [
            "M.Irkham Maulana\n"
          ]
        }
      ]
    },
    {
      "cell_type": "code",
      "source": [
        "usia = \"15\"\n",
        "print(usia)"
      ],
      "metadata": {
        "colab": {
          "base_uri": "https://localhost:8080/"
        },
        "id": "5m4W91J7JR7l",
        "outputId": "3d7a5d60-fa68-4405-ea30-60089e392ef0"
      },
      "execution_count": null,
      "outputs": [
        {
          "output_type": "stream",
          "name": "stdout",
          "text": [
            "15\n"
          ]
        }
      ]
    },
    {
      "cell_type": "markdown",
      "source": [
        "#3 Menampilkan teks bebas dan nilai variabel"
      ],
      "metadata": {
        "id": "Ai52O_ZcJfoE"
      }
    },
    {
      "cell_type": "code",
      "source": [
        "print(\"Halo perkenalkan nama saya\", nama, \"usia saya\",usia,\"tahun.\")"
      ],
      "metadata": {
        "colab": {
          "base_uri": "https://localhost:8080/"
        },
        "id": "V0udfl7mKPXG",
        "outputId": "730c7f90-1f2d-4b1e-e6d7-0531dfd8bdb6"
      },
      "execution_count": null,
      "outputs": [
        {
          "output_type": "stream",
          "name": "stdout",
          "text": [
            "Halo perkenalkan nama saya M.Irkham Maulana usia saya 15 tahun.\n"
          ]
        }
      ]
    },
    {
      "cell_type": "code",
      "source": [
        "print (\"nama saya \" + nama+\". usia saya \"+ str(usia)+\"tahun.\")"
      ],
      "metadata": {
        "colab": {
          "base_uri": "https://localhost:8080/"
        },
        "id": "4Yzf_spUNDSn",
        "outputId": "0fabc616-c60c-481e-e28e-e1ad268f57c1"
      },
      "execution_count": null,
      "outputs": [
        {
          "output_type": "stream",
          "name": "stdout",
          "text": [
            "nama saya M.Irkham Maulana. usia saya 15tahun.\n"
          ]
        }
      ]
    },
    {
      "cell_type": "code",
      "source": [
        "print (f\"Hallo nama saya {nama} usia saya {usia}tahun\")"
      ],
      "metadata": {
        "colab": {
          "base_uri": "https://localhost:8080/"
        },
        "id": "h_QDJTfyObSX",
        "outputId": "9faf6923-684d-46e9-faf5-b43963fee420"
      },
      "execution_count": null,
      "outputs": [
        {
          "output_type": "stream",
          "name": "stdout",
          "text": [
            "Hallo nama saya M.Irkham Maulana usia saya 15tahun\n"
          ]
        }
      ]
    },
    {
      "cell_type": "code",
      "source": [
        "nama_siswa_1=\"irkham\"\n",
        "nama_siswa_2=\"Rafa\""
      ],
      "metadata": {
        "id": "DDhZTiLwO3pK"
      },
      "execution_count": null,
      "outputs": []
    },
    {
      "cell_type": "code",
      "source": [
        "print (nama_siswa_1,nama_siswa_2)"
      ],
      "metadata": {
        "colab": {
          "base_uri": "https://localhost:8080/"
        },
        "id": "Mgn-5Vc1PQqH",
        "outputId": "24e1083d-30d6-4355-dc06-ea8399b9749d"
      },
      "execution_count": null,
      "outputs": [
        {
          "output_type": "stream",
          "name": "stdout",
          "text": [
            "irkham Rafa\n"
          ]
        }
      ]
    },
    {
      "cell_type": "code",
      "source": [
        "print(nama_siswa_1,nama_siswa_2,nama_siswa_1,sep=\"*\")"
      ],
      "metadata": {
        "colab": {
          "base_uri": "https://localhost:8080/"
        },
        "id": "Cax1aw_lPcF6",
        "outputId": "4f1450b8-1f19-4842-c046-ade76a1ea1b3"
      },
      "execution_count": null,
      "outputs": [
        {
          "output_type": "stream",
          "name": "stdout",
          "text": [
            "irkham*Rafa*irkham\n"
          ]
        }
      ]
    },
    {
      "cell_type": "code",
      "source": [
        "print (nama_siswa_1,end=\"*\")\n",
        "print (nama_siswa_2)"
      ],
      "metadata": {
        "colab": {
          "base_uri": "https://localhost:8080/"
        },
        "id": "aq9g8Vx0P5Wp",
        "outputId": "5f76d418-de56-483a-8fb7-a7da84d4b084"
      },
      "execution_count": null,
      "outputs": [
        {
          "output_type": "stream",
          "name": "stdout",
          "text": [
            "irkham*Rafa\n"
          ]
        }
      ]
    }
  ]
}